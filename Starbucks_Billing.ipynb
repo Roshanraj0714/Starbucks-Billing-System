{
 "cells": [
  {
   "cell_type": "code",
   "execution_count": 2,
   "id": "a6525473-ccdc-4919-9101-25fbb2bde0ec",
   "metadata": {},
   "outputs": [
    {
     "name": "stdout",
     "output_type": "stream",
     "text": [
      "========== Welcome to Starbucks ==========\n",
      "\n"
     ]
    },
    {
     "name": "stdin",
     "output_type": "stream",
     "text": [
      "Do you want Cold Coffee? (yes/no):  yes\n",
      "How many cups of Cold Coffee would you like?:  5\n",
      "Do you want Hot Coffee? (yes/no):  no\n"
     ]
    },
    {
     "name": "stdout",
     "output_type": "stream",
     "text": [
      "Skipping Hot Coffee...\n",
      "\n"
     ]
    },
    {
     "name": "stdin",
     "output_type": "stream",
     "text": [
      "Do you want Cappuccino? (yes/no):  yes\n",
      "How many cups of Cappuccino would you like?:  2\n",
      "Do you want Tea? (yes/no):  no\n"
     ]
    },
    {
     "name": "stdout",
     "output_type": "stream",
     "text": [
      "Skipping Tea...\n",
      "\n"
     ]
    },
    {
     "name": "stdin",
     "output_type": "stream",
     "text": [
      "Do you want Mocha? (yes/no):  no\n"
     ]
    },
    {
     "name": "stdout",
     "output_type": "stream",
     "text": [
      "Skipping Mocha...\n",
      "\n",
      "\n",
      "========== Your Bill ==========\n",
      "Cold Coffee  @ Rs.180 x 5  = Rs.900\n",
      "Cappuccino   @ Rs.240 x 2  = Rs.480\n",
      "----------------------------------------\n",
      "Subtotal: Rs.1380\n",
      "GST (18%): Rs.248.40\n",
      "Discount (10%): -Rs.138.00\n",
      "========================================\n",
      "Total Bill Amount: Rs.1490.40\n",
      "========== Thank You For Visiting ==========\n"
     ]
    }
   ],
   "source": [
    "print(\"========== Welcome to Starbucks ==========\\n\")\n",
    "\n",
    "# Prices of items (per cup)\n",
    "menu = {\n",
    "    \"Cold Coffee\": 180,\n",
    "    \"Hot Coffee\": 140,\n",
    "    \"Cappuccino\": 240,\n",
    "    \"Tea\": 60,\n",
    "    \"Mocha\": 210\n",
    "}\n",
    "\n",
    "# Initialize quantities\n",
    "order = {item: 0 for item in menu}\n",
    "\n",
    "# Taking Orders\n",
    "for item, price in menu.items():\n",
    "    choice = input(f\"Do you want {item}? (yes/no): \").strip().lower()\n",
    "    if choice == \"yes\":\n",
    "        qty = int(input(f\"How many cups of {item} would you like?: \"))\n",
    "        order[item] = qty\n",
    "    else:\n",
    "        print(f\"Skipping {item}...\\n\")\n",
    "\n",
    "# Printing Digital Bill\n",
    "print(\"\\n========== Your Bill ==========\")\n",
    "subtotal = 0\n",
    "for item, qty in order.items():\n",
    "    if qty > 0:\n",
    "        price = menu[item]\n",
    "        item_total = price * qty\n",
    "        subtotal += item_total\n",
    "        print(f\"{item:12} @ Rs.{price:<3} x {qty:<2} = Rs.{item_total}\")\n",
    "\n",
    "print(\"-\" * 40)\n",
    "print(f\"Subtotal: Rs.{subtotal}\")\n",
    "\n",
    "# Apply GST (18%)\n",
    "gst = subtotal * 0.18\n",
    "print(f\"GST (18%): Rs.{gst:.2f}\")\n",
    "\n",
    "# Apply discount if subtotal > 500\n",
    "discount = 0\n",
    "if subtotal > 500:\n",
    "    discount = subtotal * 0.10\n",
    "    print(f\"Discount (10%): -Rs.{discount:.2f}\")\n",
    "\n",
    "# Final total\n",
    "total_bill = subtotal + gst - discount\n",
    "print(\"=\" * 40)\n",
    "print(f\"Total Bill Amount: Rs.{total_bill:.2f}\")\n",
    "print(\"========== Thank You For Visiting ==========\")\n"
   ]
  }
 ],
 "metadata": {
  "kernelspec": {
   "display_name": "Python 3 (ipykernel)",
   "language": "python",
   "name": "python3"
  },
  "language_info": {
   "codemirror_mode": {
    "name": "ipython",
    "version": 3
   },
   "file_extension": ".py",
   "mimetype": "text/x-python",
   "name": "python",
   "nbconvert_exporter": "python",
   "pygments_lexer": "ipython3",
   "version": "3.13.5"
  }
 },
 "nbformat": 4,
 "nbformat_minor": 5
}
